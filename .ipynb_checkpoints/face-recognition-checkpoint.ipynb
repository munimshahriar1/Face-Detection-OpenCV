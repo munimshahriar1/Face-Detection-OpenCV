{
 "cells": [
  {
   "cell_type": "code",
   "execution_count": 29,
   "metadata": {},
   "outputs": [],
   "source": [
    "import face_recognition\n",
    "import cv2\n",
    "import numpy as np\n",
    "import os\n",
    "import glob\n",
    "import sys"
   ]
  },
  {
   "cell_type": "code",
   "execution_count": 30,
   "metadata": {},
   "outputs": [],
   "source": [
    "faces_encodings = []\n",
    "faces_names = []\n",
    "cur_dir = os.getcwd()\n",
    "path = os.path.join(cur_dir, 'src\\\\training_images\\\\')\n"
   ]
  },
  {
   "cell_type": "code",
   "execution_count": 31,
   "metadata": {},
   "outputs": [],
   "source": [
    "list_of_files = [f for f in glob.glob(path+'*.jpg')]\n",
    "names = list_of_files.copy()"
   ]
  },
  {
   "cell_type": "code",
   "execution_count": 32,
   "metadata": {},
   "outputs": [],
   "source": [
    "for i in range(len(list_of_files)):\n",
    "    globals()[f'image_{i}'] = face_recognition.load_image_file(list_of_files[i])\n",
    "    globals()[f'image_encoding_{i}'] = face_recognition.face_encodings(globals()[f'image_{i}'])[0]\n",
    "    faces_encodings.append(globals()[f'image_encoding_{i}'])\n",
    "# Create array of known names\n",
    "    names[i] = names[i].replace(cur_dir, \"\")  \n",
    "    faces_names.append(names[i])"
   ]
  },
  {
   "cell_type": "code",
   "execution_count": 33,
   "metadata": {},
   "outputs": [],
   "source": [
    "face_locations = []\n",
    "face_encodings = []\n",
    "face_names = []\n",
    "process_this_frame = True"
   ]
  },
  {
   "cell_type": "code",
   "execution_count": 34,
   "metadata": {},
   "outputs": [
    {
     "ename": "IndentationError",
     "evalue": "unexpected indent (<ipython-input-34-04c8e895437a>, line 20)",
     "output_type": "error",
     "traceback": [
      "\u001b[1;36m  File \u001b[1;32m\"<ipython-input-34-04c8e895437a>\"\u001b[1;36m, line \u001b[1;32m20\u001b[0m\n\u001b[1;33m    for (top, right, bottom, left), name in zip(face_locations, face_names):\u001b[0m\n\u001b[1;37m    ^\u001b[0m\n\u001b[1;31mIndentationError\u001b[0m\u001b[1;31m:\u001b[0m unexpected indent\n"
     ]
    }
   ],
   "source": [
    "video_capture = cv2.VideoCapture(0)\n",
    "while True:\n",
    "    ret, frame = video_capture.read()\n",
    "    small_frame = cv2.resize(frame, (0, 0), fx=0.25, fy=0.25)\n",
    "    rgb_small_frame = small_frame[:, :, ::-1]\n",
    "    if process_this_frame:\n",
    "        face_locations = face_recognition.face_locations( rgb_small_frame)\n",
    "        face_encodings = face_recognition.face_encodings( rgb_small_frame, face_locations)\n",
    "        face_names = []\n",
    "        for face_encoding in face_encodings:\n",
    "            matches = face_recognition.compare_faces (faces_encodings, face_encoding)\n",
    "            name = \"Unknown\"\n",
    "            face_distances = face_recognition.face_distance( faces_encodings, face_encoding)\n",
    "            best_match_index = np.argmin(face_distances)\n",
    "            if matches[best_match_index]:\n",
    "                name = faces_names[best_match_index]\n",
    "            face_names.append(name)\n",
    "process_this_frame = not process_this_frame\n",
    "# Display the results\n",
    "        for (top, right, bottom, left), name in zip(face_locations, face_names):\n",
    "            top *= 4\n",
    "            right *= 4\n",
    "            bottom *= 4\n",
    "            left *= 4\n",
    "    # Draw a rectangle around the face\n",
    "            cv2.rectangle(frame, (left, top), (right, bottom), (0, 0, 255), 2)\n",
    "    # Input text label with a name below the face\n",
    "            cv2.rectangle(frame, (left, bottom - 35), (right, bottom), (0, 0, 255), cv2.FILLED)\n",
    "            font = cv2.FONT_HERSHEY_DUPLEX\n",
    "            cv2.putText(frame, name, (left + 6, bottom - 6), font, 1.0, (255, 255, 255), 1)\n",
    "        # Display the resulting image\n",
    "            cv2.imshow('Video', frame)\n",
    "        # Hit 'q' on the keyboard to quit!\n",
    "            if cv2.waitKey(1) & 0xFF == ord('q'):\n",
    "                break"
   ]
  },
  {
   "cell_type": "code",
   "execution_count": null,
   "metadata": {},
   "outputs": [],
   "source": [
    "#Now we need an image to detect face from\n",
    "webcam = cv2.VideoCapture(0)\n",
    "\n",
    "while True:\n",
    "\tread_frame_successs, frame = webcam.read()\n",
    "\tgrayscale_img = cv2.cvtColor(frame, cv2.COLOR_BGR2GRAY)                 #Changing the image from RGB (called BGR in opencv) to Greyscale (Black and White) #cvtColor - convert color\n",
    "\tface_coordinates = trained_face_data.detectMultiScale(grayscale_img)    #Returns the coordinates of the face from the grey scale in the following format ---> [[x,y(of top left), width(w), height(h)]]\n",
    "\t\n",
    "\n",
    "\tfor (x, y, w, h) in face_coordinates:                                   #Assigning the output values of \"face_coordinates\" to separate variables (x,y,w,h) ----> makes it easier to work with\n",
    "\t\t\n",
    "\n",
    "#Now we need to draw a rectangle on the main image (not the greyscale one) -----> we will use the coordinates from the \"face_coordinates\" variable  \n",
    "#Here we are drawing a rectangle on \"img\" using top left coordinates (x,y) and bottom right coordinates (x+w, y+h)\n",
    "#The ...(255,0,0),2) represent the COLOR of rectangle (B,G,R) and ....,2) represent the thickness of the rectangle \n",
    "\n",
    "\t\tcv2.rectangle(frame, (x,y), (x+w, y+h), (random(256),random(256),random(256)), 2) \n",
    "\n",
    "\tfor i in range(len(face_coordinates)):\n",
    "\t\tprint(face_coordinates[i])\n",
    "\n",
    "\t\t#if face_coordinates == None:\n",
    "\t\t#\tprint(\"\\nNo Face Detected\\n\")\n",
    "\n",
    "\tcv2.imshow(\"Face Detector\", frame)\n",
    "\tkey = cv2.waitKey(1)             #This is the buffer between one frame and another\n",
    "\n",
    "\tif key==81 or key==113:          #ASCII key for q/Q"
   ]
  }
 ],
 "metadata": {
  "kernelspec": {
   "display_name": "Python 3",
   "language": "python",
   "name": "python3"
  },
  "language_info": {
   "codemirror_mode": {
    "name": "ipython",
    "version": 3
   },
   "file_extension": ".py",
   "mimetype": "text/x-python",
   "name": "python",
   "nbconvert_exporter": "python",
   "pygments_lexer": "ipython3",
   "version": "3.8.0"
  }
 },
 "nbformat": 4,
 "nbformat_minor": 4
}
